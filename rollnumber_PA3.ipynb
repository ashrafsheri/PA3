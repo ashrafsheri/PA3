{
 "cells": [
  {
   "cell_type": "markdown",
   "metadata": {},
   "source": [
    "# The Rise of the A.I. Guardians\n",
    "\n",
    "## Year: 3075\n",
    "### Background:\n",
    "<div style=\"display: flex; align-items: center;\">\n",
    "    <div style=\"max-width: 600px; text-align:justify;\">\n",
    "        <p>\n",
    "            Humanity’s exodus to Earth Junior was a success—thanks to your incredible screening model. Over generations, humans have adapted to their new home, and peace has settled on Earth Junior. However, something strange has begun to occur among the advanced humanoid machines, called <code>Guardians</code>, who have served as protectors and caretakers for decades. Recently, a strange glitch has been detected in some Guardians. They exhibit erratic behaviors that resemble the old zombie behaviors from Earth. Scientists call this phenomenon <code>Code Rot</code> — an anomaly in the neural networks controlling the Guardians, possibly due to lingering cosmic radiation or a mysterious extraterrestrial virus.\n",
    "        </p>\n",
    "        <p>\n",
    "            As humanity’s chief machine learning engineer, you're tasked with identifying Guardians at risk of Code Rot. Using a neural network model, you need to predict which Guardians might develop this infection-like behavior. A high <code>Code Rot probability</code> indicates the Guardian is likely to malfunction, while a low score suggests it's safe.\n",
    "        </p>\n",
    "        <p>\n",
    "            <strong><i>The mission is clear:</i></strong> Identify and quarantine any malfunctioning Guardians before they jeopardize the safety of Earth Junior's inhabitants. But beware—time is limited, and the fate of humanity once again rests on your neural network’s ability to separate friend from foe.\n",
    "        </p>\n",
    "    </div>\n",
    "    <img src=\"data/image.png\" alt=\"Guardian Image\" width=\"450\" style=\"margin-left: 20px;\">\n",
    "</div>\n"
   ]
  },
  {
   "cell_type": "markdown",
   "metadata": {},
   "source": [
    "# PA3 [100 Marks]\n",
    "### Problem Statement: \n",
    "\n",
    "In this project, you are required to implement a binary classifier to predict whether a Guardian (humanoid machine) is infected with **Code Rot**—a malfunction that causes erratic behavior similar to a zombie-like state. The classifier should determine whether each Guardian is safe or infected based on CT scan images.\n",
    "\n",
    "#### Data:\n",
    "- You have been provided with **8580 CT scan images** of Guardians.\n",
    "- A **CSV file** contains labels indicating whether each image corresponds to a malfunctioning (infected) Guardian or not.\n",
    "  \n",
    "Your task is to develop a model that can accurately predict **whether there is infection or not** in these Guardians based on their CT scan images, and assess the performance of your classifier using appropriate metrics. You can choose between pytorch, keras or tensorflow to implement your model."
   ]
  },
  {
   "cell_type": "markdown",
   "metadata": {},
   "source": [
    "# Import necessary libraries"
   ]
  },
  {
   "cell_type": "code",
   "execution_count": null,
   "metadata": {},
   "outputs": [
    {
     "data": {
      "text/plain": [
       "<torch._C.Generator at 0x24b89866dd0>"
      ]
     },
     "execution_count": 1,
     "metadata": {},
     "output_type": "execute_result"
    }
   ],
   "source": [
    "import numpy as np\n",
    "\n",
    "\n",
    "seed = None   # use this seed value wherever needed (replace with some numnber)\n",
    "np.random.seed(seed)"
   ]
  },
  {
   "cell_type": "markdown",
   "metadata": {},
   "source": [
    "# Loading Data  [10 Marks]\n",
    "Load the images, labels and preprocess as necessary."
   ]
  },
  {
   "cell_type": "code",
   "execution_count": null,
   "metadata": {},
   "outputs": [],
   "source": []
  },
  {
   "cell_type": "markdown",
   "metadata": {},
   "source": [
    "# Visualizing Data [5 Marks]\n",
    "- Make a function to plot a set of random images with class labels\n",
    "- Plot the class distribution"
   ]
  },
  {
   "cell_type": "markdown",
   "metadata": {},
   "source": [
    "# Train/test split and Normalization [20 marks]\n",
    "- Perform train, test, val split of a suitable ratio\n",
    "- Implement a suitable scaler class to normalize the data"
   ]
  },
  {
   "cell_type": "code",
   "execution_count": null,
   "metadata": {},
   "outputs": [],
   "source": []
  },
  {
   "cell_type": "markdown",
   "metadata": {},
   "source": [
    "# Create a BinaryClassifier class (10 Marks)\n",
    "- Define a model class, initialize layers with activations as required\n",
    "- Define a suitable loss function and learning rate"
   ]
  },
  {
   "cell_type": "code",
   "execution_count": null,
   "metadata": {},
   "outputs": [],
   "source": [
    "## TODO: Create a BinaryClassifier class\n",
    "class BinaryClassifier(nn.Module):\n",
    "    def __init__(self, input_dims):\n",
    "        super().__init__()\n",
    "        self.input_dims = input_dims\n",
    "        # do something\n",
    "\n",
    "    def forward(self, x):\n",
    "        # do something\n",
    "        return x\n",
    "    \n",
    "\n",
    "# TODO: Instantiate the model\n",
    "\n",
    "# TODO: Add the loss function\n",
    "\n",
    "# TODO: Add an optimizer "
   ]
  },
  {
   "cell_type": "markdown",
   "metadata": {},
   "source": [
    "# Training Loop [25 marks]\n",
    "1. **`fit_one_epoch`**: Performs one epoch of training  [5]\n",
    "  \n",
    "2. **`evaluate`**: Evaluates the model on the validation set. [10]\n",
    " \n",
    "3. **`fit`**: Run all epochs, recording training and validation accuracies and losses [10]"
   ]
  },
  {
   "cell_type": "code",
   "execution_count": null,
   "metadata": {},
   "outputs": [],
   "source": [
    "## Write functions to train and evaluate the model (10+10+5 Marks)\n",
    "\n",
    "def fit_one_epoch(model,\n",
    "                  X, y,\n",
    "                  optimizer, loss_fn):\n",
    "    '''\n",
    "    Perform one epoch of training\n",
    "    '''\n",
    "    # Set the model in train mode\n",
    "    \n",
    "    # TODO: Forward Pass (get the probabilities)\n",
    "\n",
    "    # TODO: Calculate the loss\n",
    "\n",
    "    # TODO: Optimizer zero grad\n",
    "\n",
    "    # TODO: Backward pass\n",
    "\n",
    "    # TODO: Step the optimizer\n",
    "\n",
    "    # Calculate the accuracy\n",
    "    \n",
    "\n",
    "@torch.no_grad()\n",
    "def evaluate(model,\n",
    "             X, y,\n",
    "             loss_fn):\n",
    "    '''\n",
    "    Perform one epoch of evaluation\n",
    "    '''\n",
    "    pass\n",
    "\n",
    "def fit(model,\n",
    "        X_train, y_train, X_val, y_val,\n",
    "        optimizer, loss_fn,\n",
    "        epochs):\n",
    "    '''\n",
    "    Perform the entire training process\n",
    "    '''\n",
    "    pass"
   ]
  },
  {
   "cell_type": "markdown",
   "metadata": {},
   "source": [
    "# Plot Accuracy and Loss Curves  [10 marks]"
   ]
  },
  {
   "cell_type": "code",
   "execution_count": null,
   "metadata": {},
   "outputs": [],
   "source": []
  },
  {
   "cell_type": "markdown",
   "metadata": {},
   "source": [
    "# Evaluate on the test set [5 marks]"
   ]
  },
  {
   "cell_type": "code",
   "execution_count": null,
   "metadata": {},
   "outputs": [],
   "source": [
    "\n"
   ]
  },
  {
   "cell_type": "markdown",
   "metadata": {},
   "source": [
    "# Evaluation Metrics [10 marks]\n",
    "- Classification Report\n",
    "- Confusion Matrix\n",
    "- ROC Curve"
   ]
  },
  {
   "cell_type": "code",
   "execution_count": null,
   "metadata": {},
   "outputs": [],
   "source": []
  },
  {
   "cell_type": "markdown",
   "metadata": {},
   "source": [
    "# Where did it go wrong?  [5 marks]\n",
    "Plot images that were missclassified by the model to see where it struggled to differentiate between the classes"
   ]
  },
  {
   "cell_type": "code",
   "execution_count": null,
   "metadata": {},
   "outputs": [],
   "source": []
  },
  {
   "cell_type": "markdown",
   "metadata": {},
   "source": [
    "## Well done, Guardian Protector! 🎉\n",
    "\n",
    "Your model has successfully safeguarded Earth Junior from Code Rot, ensuring few more years of peace and security. Humanity owes you a debt of gratitude—for your work to keep them safe! 🛡️"
   ]
  }
 ],
 "metadata": {
  "kaggle": {
   "accelerator": "none",
   "dataSources": [],
   "isGpuEnabled": false,
   "isInternetEnabled": true,
   "language": "python",
   "sourceType": "notebook"
  },
  "kernelspec": {
   "display_name": "Python 3 (ipykernel)",
   "language": "python",
   "name": "python3"
  },
  "language_info": {
   "codemirror_mode": {
    "name": "ipython",
    "version": 3
   },
   "file_extension": ".py",
   "mimetype": "text/x-python",
   "name": "python",
   "nbconvert_exporter": "python",
   "pygments_lexer": "ipython3",
   "version": "3.12.4"
  }
 },
 "nbformat": 4,
 "nbformat_minor": 4
}
